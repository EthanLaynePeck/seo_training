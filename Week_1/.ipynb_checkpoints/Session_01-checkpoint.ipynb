{
 "cells": [
  {
   "cell_type": "markdown",
   "id": "53ee6a2a-3b6e-4675-9ccc-3dedc39b7fb9",
   "metadata": {},
   "source": [
    "# Session 1: Why Python for SEO?\n",
    "\n",
    "## Agenda\n",
    "- Introduction to Python\n",
    "    - Setting up Python & an IDE\n",
    "    - Variables and Data Types\n",
    "    - Basic Operations\n",
    "    - Strings and String Operations\n",
    "    - Logic Operators\n",
    "    - Complex Data Types\n",
    "- Importance of Learning Python and its Applications in SEO\n",
    "    - Group Discussion About SEO\n",
    "    - Brainstorming SEO Projects for Future Training Sessions\n"
   ]
  },
  {
   "cell_type": "markdown",
   "id": "743a437e-27cd-4843-937b-acb529ef4916",
   "metadata": {},
   "source": [
    "## Introduction to Python\n",
    "\n",
    "Python is a high-level, interpreted programming language. It's known for its readability and is widely used in various fields including web development, data analysis, artificial intelligence, scientific research, and SEO.\n"
   ]
  },
  {
   "cell_type": "markdown",
   "id": "945131bd-1d64-4d4a-9d72-fa7cdd7ae55c",
   "metadata": {},
   "source": [
    "## Setting up Python & an IDE\n",
    "\n",
    "Before we proceed, make sure you've set up Python and an IDE (Integrated Development Environment) on your computer.\n",
    "\n",
    "Recommended IDEs:\n",
    "- [VS Code](https://code.visualstudio.com/docs/python/python-tutorial)\n",
    "- [Anaconda](https://docs.anaconda.com/free/anaconda/install/)\n",
    "---\n"
   ]
  },
  {
   "cell_type": "markdown",
   "id": "30ca14d6-616c-4fe5-9b7b-759f63b7794c",
   "metadata": {},
   "source": [
    "## Variables and Basic Data Types\n",
    "\n",
    "Variables are used to store data that can be used and manipulated throughout a program. Data types define the type of data. The basic data types in Python include:\n",
    "\n",
    "- **Integers**: Whole numbers, both positive and negative. Used in arithmetic operations.\n",
    "  \n",
    "- **Floats**: Numbers that contain a decimal point. Used when more precision is needed.\n",
    "  \n",
    "- **Booleans**: Can only be `True` or `False`. Used in logical expressions to represent truth values.\n",
    "\n",
    "- **Strings**: Sequences of characters, including letters, numbers, and special characters. Strings are immutable, meaning that you can create new strings from them but cannot alter their individual characters directly.\n",
    "\n",
    "\n",
    "- **None**: Represents the absence of a value or a null value. Used as a placeholder for optional or missing values.\n",
    "\n"
   ]
  },
  {
   "cell_type": "code",
   "execution_count": 3,
   "id": "7a337341-1518-4e0e-ade7-70d6595ff4a1",
   "metadata": {
    "tags": []
   },
   "outputs": [
    {
     "name": "stdout",
     "output_type": "stream",
     "text": [
      "Integer: 5\n",
      "Float: 5.5\n",
      "Boolean: True\n",
      "String: Matt Polsky\n",
      "None: None\n"
     ]
    }
   ],
   "source": [
    "# Integer\n",
    "x = 5\n",
    "\n",
    "# Float\n",
    "y = 5.5\n",
    "\n",
    "# Boolean\n",
    "is_true = True\n",
    "\n",
    "# String\n",
    "name = \"Matt Polsky\"\n",
    "\n",
    "# None\n",
    "empty = None\n",
    "\n",
    "# Print variables\n",
    "print(\"Integer:\", x)\n",
    "print(\"Float:\", y)\n",
    "print(\"Boolean:\", is_true)\n",
    "print(\"String:\", name)\n",
    "print(\"None:\", empty)"
   ]
  },
  {
   "cell_type": "markdown",
   "id": "ae17b03a-4b17-4f20-9490-30ea2f26691f",
   "metadata": {},
   "source": [
    "---\n",
    "## Basic Operations\n",
    "\n",
    "You can perform basic arithmetic operations in Python using symbols like +, -, *, /, %, **.\n"
   ]
  },
  {
   "cell_type": "code",
   "execution_count": null,
   "id": "79a1d73d-6cd7-4a58-87c9-62f41b41c8c5",
   "metadata": {
    "tags": []
   },
   "outputs": [],
   "source": [
    "# Addition\n",
    "addition = 5 + 3\n",
    "\n",
    "# Subtraction\n",
    "subtraction = 8 - 4\n",
    "\n",
    "# Multiplication\n",
    "multiplication = 2 * 3\n",
    "\n",
    "# Division\n",
    "division = 8 / 2\n",
    "\n",
    "# Modulus\n",
    "modulus = 9 % 2\n",
    "\n",
    "# Exponent\n",
    "exponent = 3 ** 2\n",
    "\n",
    "# Print results\n",
    "print(\"Addition:\", addition)\n",
    "print(\"Subtraction:\", subtraction)\n",
    "print(\"Multiplication:\", multiplication)\n",
    "print(\"Division:\", division)\n",
    "print(\"Modulus:\", modulus)\n",
    "print(\"Exponent:\", exponent)"
   ]
  },
  {
   "cell_type": "markdown",
   "id": "d2fd117a-d41c-45c9-b8cc-e17f63d34d13",
   "metadata": {},
   "source": [
    "---\n",
    "## Strings and String Operations\n",
    "\n",
    "Strings are sequences of characters. You can manipulate these characters in various ways."
   ]
  },
  {
   "cell_type": "code",
   "execution_count": null,
   "id": "170f85df-cebf-480a-9fff-b75c0d8a9b01",
   "metadata": {
    "tags": []
   },
   "outputs": [],
   "source": [
    "# Define a string\n",
    "string = \"Hello, world!\"\n",
    "\n",
    "# String concatenation\n",
    "concatenated_string = string + \" How are you?\"\n",
    "\n",
    "# String slicing\n",
    "sliced_string = string[0:5]\n",
    "\n",
    "# Print results\n",
    "print(\"Concatenated String:\", concatenated_string)\n",
    "print(\"Sliced String:\", sliced_string)"
   ]
  },
  {
   "cell_type": "code",
   "execution_count": null,
   "id": "682969bc-9ac3-4012-b3ca-ba56327a4431",
   "metadata": {
    "tags": []
   },
   "outputs": [],
   "source": [
    "# This doesn't change the original string but creates a new one\n",
    "original_string = \"Hello\"\n",
    "new_string = original_string + \" World\"\n",
    "\n",
    "# This would result in a TypeError\n",
    "# original_string[0] = \"h\""
   ]
  },
  {
   "cell_type": "markdown",
   "id": "b52e0057-7b03-4021-b2f4-12445deed961",
   "metadata": {},
   "source": [
    "---\n",
    "## Logic Operators\n",
    "\n",
    "In Python, we can compare two values using expression operators. These operators evaluate an expression and return a boolean value (`True` or `False`). Here are some of the most commonly used comparison operators:\n",
    "\n",
    "- **`>`**: Greater than\n",
    "- **`<`**: Less than\n",
    "- **`>=`**: Greater than or equal to\n",
    "- **`<=`**: Less than or equal to\n",
    "- **`==`**: Equal to\n",
    "- **`!=`**: Not equal to\n",
    "\n",
    "You can use these operators in your code to make decisions, filter data, and much more.\n"
   ]
  },
  {
   "cell_type": "code",
   "execution_count": 14,
   "id": "efcb556b-4960-41cf-b6b0-8476f1d04211",
   "metadata": {
    "tags": []
   },
   "outputs": [
    {
     "name": "stdout",
     "output_type": "stream",
     "text": [
      "Greater Than: True\n",
      "Less Than: True\n",
      "Equal To: True\n",
      "Not Equal To: True\n",
      "Greater Than or Equal To: False\n",
      "Less Than or Equal To: True\n"
     ]
    }
   ],
   "source": [
    "# Greater Than\n",
    "greater_than = 5 > 3\n",
    "\n",
    "# Less Than\n",
    "less_than = 3 < 5\n",
    "\n",
    "# Equal To\n",
    "equal_to = 5 == 5\n",
    "\n",
    "# Not Equal To\n",
    "not_equal_to = 5 != 3\n",
    "\n",
    "# Greater Than or Equal To\n",
    "greater_than_or_equal_to = 5 >= 6\n",
    "\n",
    "# Less Than or Equal To\n",
    "less_than_or_equal_to = 3 <= 3\n",
    "\n",
    "# Print results\n",
    "print(\"Greater Than:\", greater_than)\n",
    "print(\"Less Than:\", less_than)\n",
    "print(\"Equal To:\", equal_to)\n",
    "print(\"Not Equal To:\", not_equal_to)\n",
    "print(\"Greater Than or Equal To:\", greater_than_or_equal_to)\n",
    "print(\"Less Than or Equal To:\", less_than_or_equal_to)"
   ]
  },
  {
   "cell_type": "markdown",
   "id": "04374d8e-d029-48c0-92a1-f3540d0fb944",
   "metadata": {},
   "source": [
    "---\n",
    "## Basic Problems\n",
    "\n",
    "Try to solve the following problems to apply what you've learned.\n",
    "\n",
    "### Problem 1: Calculate the Area of a Circle\n",
    "- Calculate the area of a circle with radius 5.\n",
    "- Formula: $$\n",
    "\\text{Area} = \\pi \\times r^2\n",
    "$$\n",
    "- Use 𝜋 ≈ 3.14159 for calculations.\n"
   ]
  },
  {
   "cell_type": "code",
   "execution_count": null,
   "id": "46ad72e8-2082-46b9-8264-f033af923491",
   "metadata": {},
   "outputs": [],
   "source": [
    "# Problem 1\n",
    "\n",
    "\n",
    "\n",
    "\n"
   ]
  },
  {
   "cell_type": "markdown",
   "id": "07c8a7aa-a078-44a9-b9a7-5b970f650b81",
   "metadata": {},
   "source": [
    "### Problem 2: String Reversal\n",
    "- Reverse the string \"Python for SEO\"."
   ]
  },
  {
   "cell_type": "code",
   "execution_count": 10,
   "id": "5e381f1f-2eaa-4522-887e-7440306cda21",
   "metadata": {},
   "outputs": [
    {
     "data": {
      "text/plain": [
       "'OSrfnhy'"
      ]
     },
     "execution_count": 10,
     "metadata": {},
     "output_type": "execute_result"
    }
   ],
   "source": [
    "# Problem 2\n",
    "\n",
    "given_string = \"Python for SEO\"\n",
    "\n",
    "given_string[::-2]\n",
    "# ETHAN! You didn't show us how to reverse a string!!!\n",
    "\n"
   ]
  },
  {
   "cell_type": "markdown",
   "id": "e0eddfcc-bf89-4bbf-beee-3dcb0a3409f7",
   "metadata": {},
   "source": [
    "### Problem 3: Evaluate a Simple Expression\n",
    "- Evaluate the expression $$ 3 \\times (2 + 4) $$"
   ]
  },
  {
   "cell_type": "code",
   "execution_count": 11,
   "id": "afe2aaa0-3f6f-40b8-b370-b3edcb3df131",
   "metadata": {},
   "outputs": [
    {
     "data": {
      "text/plain": [
       "18"
      ]
     },
     "execution_count": 11,
     "metadata": {},
     "output_type": "execute_result"
    }
   ],
   "source": [
    "# Problem 3\n",
    "\n",
    "\n",
    "3 * (2 + 4) \n",
    "\n"
   ]
  },
  {
   "cell_type": "markdown",
   "id": "c95c9403-30e9-4ade-a9be-adf967c36f6e",
   "metadata": {},
   "source": [
    "### Problem 4: Inequality Check\n",
    "- Check if 10 is greater than 2 and store the result as a boolean value."
   ]
  },
  {
   "cell_type": "code",
   "execution_count": 17,
   "id": "725f66fd-4718-451b-a4fa-e51f4ae461f5",
   "metadata": {},
   "outputs": [
    {
     "data": {
      "text/plain": [
       "True"
      ]
     },
     "execution_count": 17,
     "metadata": {},
     "output_type": "execute_result"
    }
   ],
   "source": [
    "# Problem 4\n",
    "\n",
    "\n",
    "answer = 10 > 2\n",
    "\n",
    "answer"
   ]
  },
  {
   "cell_type": "markdown",
   "id": "696922c7-d1a9-4597-97f7-18b67fa47ae2",
   "metadata": {
    "execution": {
     "iopub.execute_input": "2023-09-22T14:25:29.653052Z",
     "iopub.status.busy": "2023-09-22T14:25:29.652752Z",
     "iopub.status.idle": "2023-09-22T14:25:29.657260Z",
     "shell.execute_reply": "2023-09-22T14:25:29.656747Z",
     "shell.execute_reply.started": "2023-09-22T14:25:29.653034Z"
    },
    "tags": []
   },
   "source": [
    "---\n",
    "## Complex Data Types\n",
    "\n",
    "Beyond basic data types, Python offers several more complex data types that allow for more versatile data manipulation. These include:\n",
    "\n",
    "- **Lists**: Ordered collections of items that can contain multiple data types. Lists are mutable, meaning their elements can be changed after creation.\n",
    "  \n",
    "- **Dictionaries**: Unordered collections of key-value pairs. Useful for storing and retrieving information in a more structured manner.\n",
    "\n",
    "- **Tuples**: Ordered collections similar to lists but are immutable. Once a tuple is created, you cannot change its contents.\n",
    "\n",
    "- **Sets**: Unordered collections of unique items. Sets are mutable but do not allow duplicate values.\n"
   ]
  },
  {
   "cell_type": "code",
   "execution_count": 18,
   "id": "5f41376a-865b-43cf-bb2e-59a826a8e6de",
   "metadata": {},
   "outputs": [
    {
     "name": "stdout",
     "output_type": "stream",
     "text": [
      "List: [1, 2, 3, 4, 5]\n",
      "Dictionary: {'key1': 'value1', 'key2': 'value2'}\n",
      "Tuple: (1, 2, 3, 'a')\n",
      "Set: {1, 2, 3, 4, 5}\n"
     ]
    }
   ],
   "source": [
    "# Lists\n",
    "my_list = [1, 2, 3, 4, 5]\n",
    "\n",
    "# Dictionaries\n",
    "my_dict = {'key1': 'value1', 'key2': 'value2'}\n",
    "\n",
    "# Tuples\n",
    "my_tuple = (1, 2, 3, 'a')\n",
    "\n",
    "# Sets\n",
    "my_set = {1, 2, 3, 4, 5}\n",
    "\n",
    "# Print variables\n",
    "print(\"List:\", my_list)\n",
    "print(\"Dictionary:\", my_dict)\n",
    "print(\"Tuple:\", my_tuple)\n",
    "print(\"Set:\", my_set)"
   ]
  },
  {
   "cell_type": "markdown",
   "id": "8373c4b0-de36-4a02-93d3-da71960c34a3",
   "metadata": {},
   "source": [
    "---\n",
    "## Practice Problems on Complex Data Types\n",
    "\n",
    "### Problem 1: Manipulating Lists\n",
    "- Create a list containing integers from 1 to 5 and assign it to a variable called `my_list`.\n",
    "- Add integer 6 to `my_list`.\n",
    "- Remove integer 3 from `my_list`.\n",
    "- Reverse `my_list`."
   ]
  },
  {
   "cell_type": "code",
   "execution_count": 41,
   "id": "63362936-4dc3-4fc5-ab03-aa2fd3c1f373",
   "metadata": {},
   "outputs": [
    {
     "name": "stdout",
     "output_type": "stream",
     "text": [
      "Before:  [1, 'a', 3, 4, 5, 6]\n"
     ]
    }
   ],
   "source": [
    "print(\"Before: \", my_list)"
   ]
  },
  {
   "cell_type": "code",
   "execution_count": 48,
   "id": "46f8cb15-86ee-4d80-a1f1-03ee72db2e70",
   "metadata": {},
   "outputs": [
    {
     "name": "stdout",
     "output_type": "stream",
     "text": [
      "Hello my name is Ethan \n",
      "My age is 32\n"
     ]
    }
   ],
   "source": [
    "print(f\"Hello my name is {my_dict['name']}. \\nMy age is {my_dict['age']}.\")"
   ]
  },
  {
   "cell_type": "code",
   "execution_count": null,
   "id": "69f14949-ee99-4e87-822c-55ce9a6505d2",
   "metadata": {},
   "outputs": [],
   "source": []
  },
  {
   "cell_type": "code",
   "execution_count": 28,
   "id": "4cec403a-820d-48b0-b123-39a8cf36f0b9",
   "metadata": {},
   "outputs": [
    {
     "name": "stdout",
     "output_type": "stream",
     "text": [
      "Before: [1, 2, 3, 4, 5, 'a']\n",
      "After: [1, 2, 3, 4, 5, 'a', 6]\n"
     ]
    },
    {
     "data": {
      "text/plain": [
       "[6, 5, 4, 3, 2, 1]"
      ]
     },
     "execution_count": 28,
     "metadata": {},
     "output_type": "execute_result"
    }
   ],
   "source": [
    "# Problem 1\n",
    "\n",
    "my_list = [1,2,3,4,5, 'a']\n",
    "\n",
    "print(f\"Before: {my_list}\")\n",
    "\n",
    "my_list.append(6)\n",
    "\n",
    "print(f\"After: {my_list}\")\n",
    "\n",
    "\n",
    "my_list.remove('a')\n",
    "\n",
    "my_list[::-1]\n"
   ]
  },
  {
   "cell_type": "markdown",
   "id": "d764795c-8695-42f1-b645-f129904235f5",
   "metadata": {},
   "source": [
    "### Problem 2: Working with Dictionaries\n",
    "- Create a dictionary containing three key-value pairs: \"name\" with your name, \"age\" with your age, and \"city\" with your city.\n",
    "- Add a key-value pair \"country\" to the dictionary.\n",
    "- Remove the key-value pair with the key \"age\".\n",
    "\n"
   ]
  },
  {
   "cell_type": "code",
   "execution_count": 43,
   "id": "9090bd9f-e20b-487f-b36e-f5a98a257bca",
   "metadata": {},
   "outputs": [
    {
     "name": "stdout",
     "output_type": "stream",
     "text": [
      "{'name': 'Ethan', 'age': 32, 'city': 'Columbia, MO', 'Friends': ['Josh', 'Josh 2', 'Josh 3', 'Josh 4']}\n",
      "{'name': 'Ethan', 'age': 32, 'city': 'Columbia, MO', 'Friends': ['Josh', 'Josh 2', 'Josh 3', 'Josh 4'], 'county': 'USA'}\n",
      "{'name': 'Ethan', 'age': 32, 'city': 'Columbia, MO', 'Friends': ['Josh', 'Josh 2', 'Josh 3', 'Josh 4'], 'county': 'USA'}\n"
     ]
    }
   ],
   "source": [
    "# Problem 2\n",
    "\n",
    "my_dict = {\n",
    "    'name': 'Ethan',\n",
    "    'age': 32,\n",
    "    'city': 'Columbia, MO',\n",
    "    'Friends': ['Josh', 'Josh 2', 'Josh 3', 'Josh 4']\n",
    "}\n",
    "\n",
    "\n",
    "print(my_dict)\n",
    "\n",
    "my_dict['county'] = 'USA'\n",
    "\n",
    "print(my_dict)\n",
    "\n",
    "# my_dict.pop('age')\n",
    "\n",
    "print(my_dict)\n"
   ]
  },
  {
   "cell_type": "markdown",
   "id": "5e019145-dddf-400e-835a-e05cd5f8affc",
   "metadata": {},
   "source": [
    "### Problem 3: Understanding Tuples\n",
    "- Create a tuple containing integers from 1 to 3.\n",
    "- Try to change the second value in the tuple to 4. What happens?"
   ]
  },
  {
   "cell_type": "code",
   "execution_count": null,
   "id": "8dd4c034-b2e8-42b7-8540-4e9bc02cd62a",
   "metadata": {
    "scrolled": true,
    "tags": []
   },
   "outputs": [],
   "source": [
    "# Problem 3\n",
    "\n",
    "my_tup = (1, 2, 3)\n",
    "\n",
    "my_tup[1] = 4"
   ]
  },
  {
   "cell_type": "markdown",
   "id": "293d9ccc-a9a3-4f12-9e7a-7daa7e5db207",
   "metadata": {},
   "source": [
    "### Problem 4: Playing with Sets\n",
    "- Create a set containing integers from 1 to 5.\n",
    "- Add integer 6 to the set.\n",
    "- Remove integer 3 from the set."
   ]
  },
  {
   "cell_type": "code",
   "execution_count": 40,
   "id": "3c6cea7d-a272-4694-90ba-9ab46034d7c0",
   "metadata": {},
   "outputs": [
    {
     "data": {
      "text/plain": [
       "{5, 6, 7, 8, 10}"
      ]
     },
     "execution_count": 40,
     "metadata": {},
     "output_type": "execute_result"
    }
   ],
   "source": [
    "# Problem 4\n",
    "\n",
    "my_set = {1, 1, 1, 5, 6, 7, 8, 5}\n",
    "\n",
    "my_set.add(10)\n",
    "\n",
    "my_set.remove(1)\n",
    "\n",
    "my_set"
   ]
  },
  {
   "cell_type": "markdown",
   "id": "8b6cfabf-2196-431a-851c-0becedbbe072",
   "metadata": {
    "tags": []
   },
   "source": [
    "---\n",
    "## Importance of Learning Python and its Applications in SEO\n",
    "\n",
    "Python has been gaining traction in the field of SEO for automating tasks, analyzing large datasets, and even for implementing machine learning models to predict rankings. In this section, we will discuss the significance of Python skills for SEO experts. (Written by ChatGPT so who knows if the first sentence is true)\n",
    "\n",
    "---\n",
    "### Group Discussion About SEO\n",
    "\n",
    "1. **Current Challenges in SEO**: What are some of the key challenges we currently face in our SEO tasks?\n",
    "2. **Tool Limitations**: Are there any limitations of current SEO tools that we are using? \n",
    "3. **Data-Driven SEO**: How comfortable are we with making data-driven decisions in our SEO strategies?\n"
   ]
  },
  {
   "cell_type": "raw",
   "id": "ccae7ae4-e857-4835-92c6-2ea2c576954f",
   "metadata": {},
   "source": [
    "Notes:\n",
    "\n",
    "\n",
    "- Spider crawler\n",
    "- Article types: What is the most up to date information\n",
    "\n",
    "\n",
    "\n",
    "\n"
   ]
  },
  {
   "cell_type": "markdown",
   "id": "7a2399e9-44c7-4073-be40-b70778a175a1",
   "metadata": {},
   "source": [
    "---\n",
    "### Brainstorming SEO Projects for Future Training Sessions\n",
    "\n",
    "1. **Automation Ideas**: What are some repetitive tasks that could be automated using Python?\n",
    "2. **Data Analysis**: Are there any specific kinds of data or metrics that we wish we could analyze more efficiently?\n",
    "3. **Machine Learning**: Any SEO opportunities you can think of?\n",
    "    - I can provide resources as we get further, but these things take years to master\n"
   ]
  },
  {
   "cell_type": "raw",
   "id": "9247b68f-4fec-4f99-b104-0b563eab05fd",
   "metadata": {},
   "source": [
    "Notes:\n",
    "\n",
    "\n",
    "- Data manipulation\n",
    "- key word research\n",
    "    - cleaning\n",
    "- key word clustering\n",
    "- scrapping competitor sites\n"
   ]
  }
 ],
 "metadata": {
  "kernelspec": {
   "display_name": "SEO Webscraper",
   "language": "python",
   "name": "seo_webscraper"
  },
  "language_info": {
   "codemirror_mode": {
    "name": "ipython",
    "version": 3
   },
   "file_extension": ".py",
   "mimetype": "text/x-python",
   "name": "python",
   "nbconvert_exporter": "python",
   "pygments_lexer": "ipython3",
   "version": "3.10.9"
  }
 },
 "nbformat": 4,
 "nbformat_minor": 5
}
